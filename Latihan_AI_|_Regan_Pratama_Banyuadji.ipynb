{
  "cells": [
    {
      "cell_type": "markdown",
      "metadata": {
        "id": "view-in-github",
        "colab_type": "text"
      },
      "source": [
        "<a href=\"https://colab.research.google.com/github/reganpr/R6/blob/main/Latihan_AI_%7C_Regan_Pratama_Banyuadji.ipynb\" target=\"_parent\"><img src=\"https://colab.research.google.com/assets/colab-badge.svg\" alt=\"Open In Colab\"/></a>"
      ]
    },
    {
      "cell_type": "markdown",
      "source": [
        "# gah\n",
        "\n",
        "\n",
        "str_numbers = \"456\"\n",
        "str_numbers_to_int = int(str_numbers)\n",
        "print(\"Before casting :\", str_numbers, \", the data type is\",\n",
        "type(str_numbers))\n",
        "print(\"After casting :\", str_numbers_to_int, \", the data type is\",\n",
        "type(str_numbers_to_int))"
      ],
      "metadata": {
        "id": "Oc3B0wqtIZtZ"
      }
    },
    {
      "cell_type": "code",
      "source": [
        "print(30*\"=\")\n",
        "print(\"Identification Program\")\n",
        "print(30*\"=\")\n",
        "name = str(input(\"What is your name : \"))\n",
        "age = int(input(\"What's your age : \"))\n",
        "print(\"Name: \", name)\n",
        "print(\"Age: \", age)\n",
        "\n",
        "# normal print\n",
        "print('Hi all! I am', name, 'age', age, 'years old')\n",
        "# format print\n",
        "print(f'Hi all! I am {name} age {age} years old')\n",
        "# format print\n",
        "print(f'Hi all! I am %s age %d years old'%(name, age))\n"
      ],
      "metadata": {
        "colab": {
          "base_uri": "https://localhost:8080/"
        },
        "outputId": "e34e4ccf-8f7e-4632-f245-fae632cbb7b2",
        "id": "YDOyUejwe3re"
      },
      "execution_count": 1,
      "outputs": [
        {
          "output_type": "stream",
          "name": "stdout",
          "text": [
            "==============================\n",
            "Identification Program\n",
            "==============================\n",
            "What is your name : Regan\n",
            "What's your age : 16\n",
            "Name:  Regan\n",
            "Age:  16\n",
            "Hi all! I am Regan age 16 years old\n",
            "Hi all! I am Regan age 16 years old\n",
            "Hi all! I am Regan age 16 years old\n"
          ]
        }
      ]
    },
    {
      "cell_type": "code",
      "source": [
        "print(30*\"=\")\n",
        "print(\"Casting Program\")\n",
        "print(30*\"=\")\n",
        "# cast from str to int\n",
        "str_numbers = \"456\"\n",
        "str_numbers_to_int = int(str_numbers)\n",
        "print(\"Before casting :\", str_numbers, \", the data type is\",\n",
        "type(str_numbers))\n",
        "print(\"After casting :\", str_numbers_to_int, \", the data type is\",\n",
        "type(str_numbers_to_int))\n",
        "\n",
        "\n",
        "# casting from int to str\n",
        "integer = 12345\n",
        "integer_to_str = str(integer)\n",
        "print(\"Before casting :\", integer, \", the data type is\", type(integer))\n",
        "print(\"After casting :\", integer_to_str, \", the data type is\",\n",
        "type(integer_to_str))\n",
        "\n",
        "# casting from int to bool\n",
        "num_int = 1\n",
        "num_bool = bool(num_int)\n",
        "print(num_bool, type(num_bool))\n",
        "num_int = 0\n",
        "\n",
        "num_bool = bool(num_int)\n",
        "print(num_bool, type(num_bool))\n",
        "\n",
        "# Equal to\n",
        "8 == 8\n",
        "# Not equal to\n",
        "8 != 9\n",
        "# Greater than\n",
        "8 > 9\n",
        "# Less than\n",
        "8 < 9\n",
        "# Less than\n",
        "8 <= 9\n",
        "# Less than\n",
        "9 >= 9\n",
        "\n",
        "a = True\n",
        "b = True\n",
        "print(a and b)\n",
        "print(a or b)\n",
        "print(not b)\n",
        "#logic\n",
        "5 > 6 and 6 < 7\n"
      ],
      "metadata": {
        "colab": {
          "base_uri": "https://localhost:8080/"
        },
        "outputId": "5fd804d7-8c20-4414-8f3c-d04eac7c49db",
        "id": "C5TPimXocoZO"
      },
      "execution_count": 7,
      "outputs": [
        {
          "output_type": "stream",
          "name": "stdout",
          "text": [
            "==============================\n",
            "Casting Program\n",
            "==============================\n",
            "Before casting : 456 , the data type is <class 'str'>\n",
            "After casting : 456 , the data type is <class 'int'>\n",
            "Before casting : 12345 , the data type is <class 'int'>\n",
            "After casting : 12345 , the data type is <class 'str'>\n",
            "True <class 'bool'>\n",
            "False <class 'bool'>\n",
            "True\n",
            "True\n",
            "False\n"
          ]
        },
        {
          "output_type": "execute_result",
          "data": {
            "text/plain": [
              "False"
            ]
          },
          "metadata": {},
          "execution_count": 7
        }
      ]
    },
    {
      "cell_type": "code",
      "source": [
        "e = 8\n",
        "f = 2\n",
        "print(30*\"=\")\n",
        "print(\"Calculation Program\")\n",
        "print(30*\"=\")\n",
        "# Summation\n",
        "sum = e + f\n",
        "print(f\"The sum of e with f is : {sum}\\n\")\n",
        "# Reduction\n",
        "red = e - f\n",
        "print(f\"The reduction of e with f is : {red}\\n\")\n",
        "\n",
        "# Multiplication\n",
        "multi = e * f\n",
        "print(f\"The multipication of e with f is : {multi}\\n\")\n",
        "# Division\n",
        "divi = e / f\n",
        "print(f\"The quotient of e with f is : {divi}\\n\")\n",
        "# Modulo\n",
        "mod = e % f\n",
        "print(f\"The remainder of e with f is : {mod}\\n\")\n",
        "# Power\n",
        "pow = e ** f\n",
        "print(f\"The power of e of f is : {pow}\\n\")"
      ],
      "metadata": {
        "colab": {
          "base_uri": "https://localhost:8080/"
        },
        "outputId": "116756e2-a67c-45a1-9898-9c82d849c099",
        "id": "8QRB-3cDdXLi"
      },
      "execution_count": 3,
      "outputs": [
        {
          "output_type": "stream",
          "name": "stdout",
          "text": [
            "==============================\n",
            "Calculation Program\n",
            "==============================\n",
            "The sum of e with f is : 10\n",
            "\n",
            "The reduction of e with f is : 6\n",
            "\n",
            "The multipication of e with f is : 16\n",
            "\n",
            "The quotient of e with f is : 4.0\n",
            "\n",
            "The remainder of e with f is : 0\n",
            "\n",
            "The power of e of f is : 64\n",
            "\n"
          ]
        }
      ]
    },
    {
      "cell_type": "code",
      "source": [
        "\n",
        "print(30*\"=\")\n",
        "print(\"Other Interactible Programs\")\n",
        "print(30*\"=\")\n",
        "try:\n",
        "    your_GPA = float(input(\"Enter your GPA: \"))\n",
        "    if 4.0 >= your_GPA >= 0.0:\n",
        "        if 4.0 >= your_GPA >= 3.80:\n",
        "            print(f\"You receive a magna cumlaude with your {your_GPA} GPA\")\n",
        "        elif 3.50 <= your_GPA < 3.80:\n",
        "            print(f\"You receive a cumlaude with your {your_GPA} GPA\")\n",
        "        elif 3.00 <= your_GPA < 3.50:\n",
        "            print(f\"You have a stable GPA\")\n",
        "        elif your_GPA < 3.0:\n",
        "            print(f\"You need a stable GPA\")\n",
        "    else:\n",
        "        print(f\"Sorry, your GPA {your_GPA} is out of range and invalid\")\n",
        "except:\n",
        "\n",
        "    print(\"Please enter a valid GPA\")\n",
        "\n",
        "try:\n",
        "    status_code = int(input(\"Enter your status code: \"))\n",
        "    print(\"Your code means\")\n",
        "    match status_code:\n",
        "        case 200:\n",
        "            print(\"Success!\")\n",
        "        case 400:\n",
        "            print(\"Bad Request\")\n",
        "        case 401:\n",
        "            print(\"Unauthorized\")\n",
        "        case 402:\n",
        "            print(\"Payment Required\")\n",
        "        case 403:\n",
        "            print(\"Forbidden\")\n",
        "        case 404:\n",
        "            print(\"Not Found\")\n",
        "        case 500:\n",
        "            print(\"Internal Server Error\")\n",
        "except :\n",
        "    print(\"Please enter a valid status code\")\n",
        "\n",
        "\n",
        "a = int(input(\"Insert any number: \"))\n",
        "b = \"Even Numbers\" if a % 2 == 0 else \"Odd Numbers\"\n",
        "print(b)"
      ],
      "metadata": {
        "colab": {
          "base_uri": "https://localhost:8080/"
        },
        "id": "fZyLqBOzIroN",
        "outputId": "d02cd8f2-c782-4399-d4c2-bbed4e9a5c98"
      },
      "execution_count": 8,
      "outputs": [
        {
          "output_type": "stream",
          "name": "stdout",
          "text": [
            "==============================\n",
            "Other Interactible Programs\n",
            "==============================\n",
            "Enter your GPA: 78\n",
            "Sorry, your GPA 78.0 is out of range and invalid\n",
            "Enter your status code: 8\n",
            "Your code means\n",
            "Insert any number: 99\n",
            "Odd Numbers\n"
          ]
        }
      ]
    }
  ],
  "metadata": {
    "colab": {
      "toc_visible": true,
      "provenance": [],
      "include_colab_link": true
    },
    "kernelspec": {
      "display_name": "Python 3",
      "name": "python3"
    }
  },
  "nbformat": 4,
  "nbformat_minor": 0
}